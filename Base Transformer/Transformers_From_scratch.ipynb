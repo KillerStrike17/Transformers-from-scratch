{
  "nbformat": 4,
  "nbformat_minor": 0,
  "metadata": {
    "colab": {
      "provenance": [],
      "gpuType": "T4"
    },
    "kernelspec": {
      "name": "python3",
      "display_name": "Python 3"
    },
    "language_info": {
      "name": "python"
    },
    "accelerator": "GPU",
    "widgets": {
      "application/vnd.jupyter.widget-state+json": {
        "0bc95d4ace4a492ca02ca5712727d2c3": {
          "model_module": "@jupyter-widgets/controls",
          "model_name": "HBoxModel",
          "model_module_version": "1.5.0",
          "state": {
            "_dom_classes": [],
            "_model_module": "@jupyter-widgets/controls",
            "_model_module_version": "1.5.0",
            "_model_name": "HBoxModel",
            "_view_count": null,
            "_view_module": "@jupyter-widgets/controls",
            "_view_module_version": "1.5.0",
            "_view_name": "HBoxView",
            "box_style": "",
            "children": [
              "IPY_MODEL_bd85a9ade7054324bc9766415fa81121",
              "IPY_MODEL_11e436bd042848f68297c315750e6ed5",
              "IPY_MODEL_dbc92a8426f6486b8665547f21ab2064"
            ],
            "layout": "IPY_MODEL_92ced5c934e64b65843d42e4d773c5f6"
          }
        },
        "bd85a9ade7054324bc9766415fa81121": {
          "model_module": "@jupyter-widgets/controls",
          "model_name": "HTMLModel",
          "model_module_version": "1.5.0",
          "state": {
            "_dom_classes": [],
            "_model_module": "@jupyter-widgets/controls",
            "_model_module_version": "1.5.0",
            "_model_name": "HTMLModel",
            "_view_count": null,
            "_view_module": "@jupyter-widgets/controls",
            "_view_module_version": "1.5.0",
            "_view_name": "HTMLView",
            "description": "",
            "description_tooltip": null,
            "layout": "IPY_MODEL_fd024443555d4d63a03cac803aa18fec",
            "placeholder": "​",
            "style": "IPY_MODEL_f1109b100d334fbabe3ce546c9405d4f",
            "value": "Downloading data: 100%"
          }
        },
        "11e436bd042848f68297c315750e6ed5": {
          "model_module": "@jupyter-widgets/controls",
          "model_name": "FloatProgressModel",
          "model_module_version": "1.5.0",
          "state": {
            "_dom_classes": [],
            "_model_module": "@jupyter-widgets/controls",
            "_model_module_version": "1.5.0",
            "_model_name": "FloatProgressModel",
            "_view_count": null,
            "_view_module": "@jupyter-widgets/controls",
            "_view_module_version": "1.5.0",
            "_view_name": "ProgressView",
            "bar_style": "success",
            "description": "",
            "description_tooltip": null,
            "layout": "IPY_MODEL_6f03ba5cd63e4d6e8cca14942b106113",
            "max": 3295251,
            "min": 0,
            "orientation": "horizontal",
            "style": "IPY_MODEL_bca4ff9016ee401fa256ab9416dd3746",
            "value": 3295251
          }
        },
        "dbc92a8426f6486b8665547f21ab2064": {
          "model_module": "@jupyter-widgets/controls",
          "model_name": "HTMLModel",
          "model_module_version": "1.5.0",
          "state": {
            "_dom_classes": [],
            "_model_module": "@jupyter-widgets/controls",
            "_model_module_version": "1.5.0",
            "_model_name": "HTMLModel",
            "_view_count": null,
            "_view_module": "@jupyter-widgets/controls",
            "_view_module_version": "1.5.0",
            "_view_name": "HTMLView",
            "description": "",
            "description_tooltip": null,
            "layout": "IPY_MODEL_eec4aa83fdf14393a1feb96e4a5c9e5b",
            "placeholder": "​",
            "style": "IPY_MODEL_efa26c530e7f458caf9ecc4110b2a407",
            "value": " 3.30M/3.30M [00:00&lt;00:00, 9.88MB/s]"
          }
        },
        "92ced5c934e64b65843d42e4d773c5f6": {
          "model_module": "@jupyter-widgets/base",
          "model_name": "LayoutModel",
          "model_module_version": "1.2.0",
          "state": {
            "_model_module": "@jupyter-widgets/base",
            "_model_module_version": "1.2.0",
            "_model_name": "LayoutModel",
            "_view_count": null,
            "_view_module": "@jupyter-widgets/base",
            "_view_module_version": "1.2.0",
            "_view_name": "LayoutView",
            "align_content": null,
            "align_items": null,
            "align_self": null,
            "border": null,
            "bottom": null,
            "display": null,
            "flex": null,
            "flex_flow": null,
            "grid_area": null,
            "grid_auto_columns": null,
            "grid_auto_flow": null,
            "grid_auto_rows": null,
            "grid_column": null,
            "grid_gap": null,
            "grid_row": null,
            "grid_template_areas": null,
            "grid_template_columns": null,
            "grid_template_rows": null,
            "height": null,
            "justify_content": null,
            "justify_items": null,
            "left": null,
            "margin": null,
            "max_height": null,
            "max_width": null,
            "min_height": null,
            "min_width": null,
            "object_fit": null,
            "object_position": null,
            "order": null,
            "overflow": null,
            "overflow_x": null,
            "overflow_y": null,
            "padding": null,
            "right": null,
            "top": null,
            "visibility": null,
            "width": null
          }
        },
        "fd024443555d4d63a03cac803aa18fec": {
          "model_module": "@jupyter-widgets/base",
          "model_name": "LayoutModel",
          "model_module_version": "1.2.0",
          "state": {
            "_model_module": "@jupyter-widgets/base",
            "_model_module_version": "1.2.0",
            "_model_name": "LayoutModel",
            "_view_count": null,
            "_view_module": "@jupyter-widgets/base",
            "_view_module_version": "1.2.0",
            "_view_name": "LayoutView",
            "align_content": null,
            "align_items": null,
            "align_self": null,
            "border": null,
            "bottom": null,
            "display": null,
            "flex": null,
            "flex_flow": null,
            "grid_area": null,
            "grid_auto_columns": null,
            "grid_auto_flow": null,
            "grid_auto_rows": null,
            "grid_column": null,
            "grid_gap": null,
            "grid_row": null,
            "grid_template_areas": null,
            "grid_template_columns": null,
            "grid_template_rows": null,
            "height": null,
            "justify_content": null,
            "justify_items": null,
            "left": null,
            "margin": null,
            "max_height": null,
            "max_width": null,
            "min_height": null,
            "min_width": null,
            "object_fit": null,
            "object_position": null,
            "order": null,
            "overflow": null,
            "overflow_x": null,
            "overflow_y": null,
            "padding": null,
            "right": null,
            "top": null,
            "visibility": null,
            "width": null
          }
        },
        "f1109b100d334fbabe3ce546c9405d4f": {
          "model_module": "@jupyter-widgets/controls",
          "model_name": "DescriptionStyleModel",
          "model_module_version": "1.5.0",
          "state": {
            "_model_module": "@jupyter-widgets/controls",
            "_model_module_version": "1.5.0",
            "_model_name": "DescriptionStyleModel",
            "_view_count": null,
            "_view_module": "@jupyter-widgets/base",
            "_view_module_version": "1.2.0",
            "_view_name": "StyleView",
            "description_width": ""
          }
        },
        "6f03ba5cd63e4d6e8cca14942b106113": {
          "model_module": "@jupyter-widgets/base",
          "model_name": "LayoutModel",
          "model_module_version": "1.2.0",
          "state": {
            "_model_module": "@jupyter-widgets/base",
            "_model_module_version": "1.2.0",
            "_model_name": "LayoutModel",
            "_view_count": null,
            "_view_module": "@jupyter-widgets/base",
            "_view_module_version": "1.2.0",
            "_view_name": "LayoutView",
            "align_content": null,
            "align_items": null,
            "align_self": null,
            "border": null,
            "bottom": null,
            "display": null,
            "flex": null,
            "flex_flow": null,
            "grid_area": null,
            "grid_auto_columns": null,
            "grid_auto_flow": null,
            "grid_auto_rows": null,
            "grid_column": null,
            "grid_gap": null,
            "grid_row": null,
            "grid_template_areas": null,
            "grid_template_columns": null,
            "grid_template_rows": null,
            "height": null,
            "justify_content": null,
            "justify_items": null,
            "left": null,
            "margin": null,
            "max_height": null,
            "max_width": null,
            "min_height": null,
            "min_width": null,
            "object_fit": null,
            "object_position": null,
            "order": null,
            "overflow": null,
            "overflow_x": null,
            "overflow_y": null,
            "padding": null,
            "right": null,
            "top": null,
            "visibility": null,
            "width": null
          }
        },
        "bca4ff9016ee401fa256ab9416dd3746": {
          "model_module": "@jupyter-widgets/controls",
          "model_name": "ProgressStyleModel",
          "model_module_version": "1.5.0",
          "state": {
            "_model_module": "@jupyter-widgets/controls",
            "_model_module_version": "1.5.0",
            "_model_name": "ProgressStyleModel",
            "_view_count": null,
            "_view_module": "@jupyter-widgets/base",
            "_view_module_version": "1.2.0",
            "_view_name": "StyleView",
            "bar_color": null,
            "description_width": ""
          }
        },
        "eec4aa83fdf14393a1feb96e4a5c9e5b": {
          "model_module": "@jupyter-widgets/base",
          "model_name": "LayoutModel",
          "model_module_version": "1.2.0",
          "state": {
            "_model_module": "@jupyter-widgets/base",
            "_model_module_version": "1.2.0",
            "_model_name": "LayoutModel",
            "_view_count": null,
            "_view_module": "@jupyter-widgets/base",
            "_view_module_version": "1.2.0",
            "_view_name": "LayoutView",
            "align_content": null,
            "align_items": null,
            "align_self": null,
            "border": null,
            "bottom": null,
            "display": null,
            "flex": null,
            "flex_flow": null,
            "grid_area": null,
            "grid_auto_columns": null,
            "grid_auto_flow": null,
            "grid_auto_rows": null,
            "grid_column": null,
            "grid_gap": null,
            "grid_row": null,
            "grid_template_areas": null,
            "grid_template_columns": null,
            "grid_template_rows": null,
            "height": null,
            "justify_content": null,
            "justify_items": null,
            "left": null,
            "margin": null,
            "max_height": null,
            "max_width": null,
            "min_height": null,
            "min_width": null,
            "object_fit": null,
            "object_position": null,
            "order": null,
            "overflow": null,
            "overflow_x": null,
            "overflow_y": null,
            "padding": null,
            "right": null,
            "top": null,
            "visibility": null,
            "width": null
          }
        },
        "efa26c530e7f458caf9ecc4110b2a407": {
          "model_module": "@jupyter-widgets/controls",
          "model_name": "DescriptionStyleModel",
          "model_module_version": "1.5.0",
          "state": {
            "_model_module": "@jupyter-widgets/controls",
            "_model_module_version": "1.5.0",
            "_model_name": "DescriptionStyleModel",
            "_view_count": null,
            "_view_module": "@jupyter-widgets/base",
            "_view_module_version": "1.2.0",
            "_view_name": "StyleView",
            "description_width": ""
          }
        },
        "96c9cdd9898e4247bb82cffe992538b0": {
          "model_module": "@jupyter-widgets/controls",
          "model_name": "HBoxModel",
          "model_module_version": "1.5.0",
          "state": {
            "_dom_classes": [],
            "_model_module": "@jupyter-widgets/controls",
            "_model_module_version": "1.5.0",
            "_model_name": "HBoxModel",
            "_view_count": null,
            "_view_module": "@jupyter-widgets/controls",
            "_view_module_version": "1.5.0",
            "_view_name": "HBoxView",
            "box_style": "",
            "children": [
              "IPY_MODEL_41ccd632ad964f388153c13248dae50c",
              "IPY_MODEL_86108dd3fe9547f48106a8a0a0a3b112",
              "IPY_MODEL_f98ce47ab818405da9fe752d2f2713e4"
            ],
            "layout": "IPY_MODEL_c22e9ae640a7427788b2f6d579d03236"
          }
        },
        "41ccd632ad964f388153c13248dae50c": {
          "model_module": "@jupyter-widgets/controls",
          "model_name": "HTMLModel",
          "model_module_version": "1.5.0",
          "state": {
            "_dom_classes": [],
            "_model_module": "@jupyter-widgets/controls",
            "_model_module_version": "1.5.0",
            "_model_name": "HTMLModel",
            "_view_count": null,
            "_view_module": "@jupyter-widgets/controls",
            "_view_module_version": "1.5.0",
            "_view_name": "HTMLView",
            "description": "",
            "description_tooltip": null,
            "layout": "IPY_MODEL_ef37ea1133bc413d9d13d3ddfe8464c2",
            "placeholder": "​",
            "style": "IPY_MODEL_e8d2a8d62dc7487b930a9851f678d67a",
            "value": "Generating train split: 100%"
          }
        },
        "86108dd3fe9547f48106a8a0a0a3b112": {
          "model_module": "@jupyter-widgets/controls",
          "model_name": "FloatProgressModel",
          "model_module_version": "1.5.0",
          "state": {
            "_dom_classes": [],
            "_model_module": "@jupyter-widgets/controls",
            "_model_module_version": "1.5.0",
            "_model_name": "FloatProgressModel",
            "_view_count": null,
            "_view_module": "@jupyter-widgets/controls",
            "_view_module_version": "1.5.0",
            "_view_name": "ProgressView",
            "bar_style": "success",
            "description": "",
            "description_tooltip": null,
            "layout": "IPY_MODEL_9cbb20bed69147459f65c83420fc18e7",
            "max": 32332,
            "min": 0,
            "orientation": "horizontal",
            "style": "IPY_MODEL_95b70cde44f54ecea45f66b39f93faeb",
            "value": 32332
          }
        },
        "f98ce47ab818405da9fe752d2f2713e4": {
          "model_module": "@jupyter-widgets/controls",
          "model_name": "HTMLModel",
          "model_module_version": "1.5.0",
          "state": {
            "_dom_classes": [],
            "_model_module": "@jupyter-widgets/controls",
            "_model_module_version": "1.5.0",
            "_model_name": "HTMLModel",
            "_view_count": null,
            "_view_module": "@jupyter-widgets/controls",
            "_view_module_version": "1.5.0",
            "_view_name": "HTMLView",
            "description": "",
            "description_tooltip": null,
            "layout": "IPY_MODEL_72a29b7f492d4c9d99e009d5e80ec551",
            "placeholder": "​",
            "style": "IPY_MODEL_35adc284bdcd4adab6381f5d72845823",
            "value": " 32332/32332 [00:01&lt;00:00, 24159.53 examples/s]"
          }
        },
        "c22e9ae640a7427788b2f6d579d03236": {
          "model_module": "@jupyter-widgets/base",
          "model_name": "LayoutModel",
          "model_module_version": "1.2.0",
          "state": {
            "_model_module": "@jupyter-widgets/base",
            "_model_module_version": "1.2.0",
            "_model_name": "LayoutModel",
            "_view_count": null,
            "_view_module": "@jupyter-widgets/base",
            "_view_module_version": "1.2.0",
            "_view_name": "LayoutView",
            "align_content": null,
            "align_items": null,
            "align_self": null,
            "border": null,
            "bottom": null,
            "display": null,
            "flex": null,
            "flex_flow": null,
            "grid_area": null,
            "grid_auto_columns": null,
            "grid_auto_flow": null,
            "grid_auto_rows": null,
            "grid_column": null,
            "grid_gap": null,
            "grid_row": null,
            "grid_template_areas": null,
            "grid_template_columns": null,
            "grid_template_rows": null,
            "height": null,
            "justify_content": null,
            "justify_items": null,
            "left": null,
            "margin": null,
            "max_height": null,
            "max_width": null,
            "min_height": null,
            "min_width": null,
            "object_fit": null,
            "object_position": null,
            "order": null,
            "overflow": null,
            "overflow_x": null,
            "overflow_y": null,
            "padding": null,
            "right": null,
            "top": null,
            "visibility": null,
            "width": null
          }
        },
        "ef37ea1133bc413d9d13d3ddfe8464c2": {
          "model_module": "@jupyter-widgets/base",
          "model_name": "LayoutModel",
          "model_module_version": "1.2.0",
          "state": {
            "_model_module": "@jupyter-widgets/base",
            "_model_module_version": "1.2.0",
            "_model_name": "LayoutModel",
            "_view_count": null,
            "_view_module": "@jupyter-widgets/base",
            "_view_module_version": "1.2.0",
            "_view_name": "LayoutView",
            "align_content": null,
            "align_items": null,
            "align_self": null,
            "border": null,
            "bottom": null,
            "display": null,
            "flex": null,
            "flex_flow": null,
            "grid_area": null,
            "grid_auto_columns": null,
            "grid_auto_flow": null,
            "grid_auto_rows": null,
            "grid_column": null,
            "grid_gap": null,
            "grid_row": null,
            "grid_template_areas": null,
            "grid_template_columns": null,
            "grid_template_rows": null,
            "height": null,
            "justify_content": null,
            "justify_items": null,
            "left": null,
            "margin": null,
            "max_height": null,
            "max_width": null,
            "min_height": null,
            "min_width": null,
            "object_fit": null,
            "object_position": null,
            "order": null,
            "overflow": null,
            "overflow_x": null,
            "overflow_y": null,
            "padding": null,
            "right": null,
            "top": null,
            "visibility": null,
            "width": null
          }
        },
        "e8d2a8d62dc7487b930a9851f678d67a": {
          "model_module": "@jupyter-widgets/controls",
          "model_name": "DescriptionStyleModel",
          "model_module_version": "1.5.0",
          "state": {
            "_model_module": "@jupyter-widgets/controls",
            "_model_module_version": "1.5.0",
            "_model_name": "DescriptionStyleModel",
            "_view_count": null,
            "_view_module": "@jupyter-widgets/base",
            "_view_module_version": "1.2.0",
            "_view_name": "StyleView",
            "description_width": ""
          }
        },
        "9cbb20bed69147459f65c83420fc18e7": {
          "model_module": "@jupyter-widgets/base",
          "model_name": "LayoutModel",
          "model_module_version": "1.2.0",
          "state": {
            "_model_module": "@jupyter-widgets/base",
            "_model_module_version": "1.2.0",
            "_model_name": "LayoutModel",
            "_view_count": null,
            "_view_module": "@jupyter-widgets/base",
            "_view_module_version": "1.2.0",
            "_view_name": "LayoutView",
            "align_content": null,
            "align_items": null,
            "align_self": null,
            "border": null,
            "bottom": null,
            "display": null,
            "flex": null,
            "flex_flow": null,
            "grid_area": null,
            "grid_auto_columns": null,
            "grid_auto_flow": null,
            "grid_auto_rows": null,
            "grid_column": null,
            "grid_gap": null,
            "grid_row": null,
            "grid_template_areas": null,
            "grid_template_columns": null,
            "grid_template_rows": null,
            "height": null,
            "justify_content": null,
            "justify_items": null,
            "left": null,
            "margin": null,
            "max_height": null,
            "max_width": null,
            "min_height": null,
            "min_width": null,
            "object_fit": null,
            "object_position": null,
            "order": null,
            "overflow": null,
            "overflow_x": null,
            "overflow_y": null,
            "padding": null,
            "right": null,
            "top": null,
            "visibility": null,
            "width": null
          }
        },
        "95b70cde44f54ecea45f66b39f93faeb": {
          "model_module": "@jupyter-widgets/controls",
          "model_name": "ProgressStyleModel",
          "model_module_version": "1.5.0",
          "state": {
            "_model_module": "@jupyter-widgets/controls",
            "_model_module_version": "1.5.0",
            "_model_name": "ProgressStyleModel",
            "_view_count": null,
            "_view_module": "@jupyter-widgets/base",
            "_view_module_version": "1.2.0",
            "_view_name": "StyleView",
            "bar_color": null,
            "description_width": ""
          }
        },
        "72a29b7f492d4c9d99e009d5e80ec551": {
          "model_module": "@jupyter-widgets/base",
          "model_name": "LayoutModel",
          "model_module_version": "1.2.0",
          "state": {
            "_model_module": "@jupyter-widgets/base",
            "_model_module_version": "1.2.0",
            "_model_name": "LayoutModel",
            "_view_count": null,
            "_view_module": "@jupyter-widgets/base",
            "_view_module_version": "1.2.0",
            "_view_name": "LayoutView",
            "align_content": null,
            "align_items": null,
            "align_self": null,
            "border": null,
            "bottom": null,
            "display": null,
            "flex": null,
            "flex_flow": null,
            "grid_area": null,
            "grid_auto_columns": null,
            "grid_auto_flow": null,
            "grid_auto_rows": null,
            "grid_column": null,
            "grid_gap": null,
            "grid_row": null,
            "grid_template_areas": null,
            "grid_template_columns": null,
            "grid_template_rows": null,
            "height": null,
            "justify_content": null,
            "justify_items": null,
            "left": null,
            "margin": null,
            "max_height": null,
            "max_width": null,
            "min_height": null,
            "min_width": null,
            "object_fit": null,
            "object_position": null,
            "order": null,
            "overflow": null,
            "overflow_x": null,
            "overflow_y": null,
            "padding": null,
            "right": null,
            "top": null,
            "visibility": null,
            "width": null
          }
        },
        "35adc284bdcd4adab6381f5d72845823": {
          "model_module": "@jupyter-widgets/controls",
          "model_name": "DescriptionStyleModel",
          "model_module_version": "1.5.0",
          "state": {
            "_model_module": "@jupyter-widgets/controls",
            "_model_module_version": "1.5.0",
            "_model_name": "DescriptionStyleModel",
            "_view_count": null,
            "_view_module": "@jupyter-widgets/base",
            "_view_module_version": "1.2.0",
            "_view_name": "StyleView",
            "description_width": ""
          }
        }
      }
    }
  },
  "cells": [
    {
      "cell_type": "code",
      "source": [
        "!pip install -q datasets tokenizers torchmetrics"
      ],
      "metadata": {
        "id": "gcK0q961rYRO"
      },
      "execution_count": null,
      "outputs": []
    },
    {
      "cell_type": "code",
      "source": [
        "# !rm -rf runs"
      ],
      "metadata": {
        "id": "nnxoodICrpFA"
      },
      "execution_count": null,
      "outputs": []
    },
    {
      "cell_type": "code",
      "execution_count": null,
      "metadata": {
        "colab": {
          "base_uri": "https://localhost:8080/",
          "height": 1000,
          "referenced_widgets": [
            "0bc95d4ace4a492ca02ca5712727d2c3",
            "bd85a9ade7054324bc9766415fa81121",
            "11e436bd042848f68297c315750e6ed5",
            "dbc92a8426f6486b8665547f21ab2064",
            "92ced5c934e64b65843d42e4d773c5f6",
            "fd024443555d4d63a03cac803aa18fec",
            "f1109b100d334fbabe3ce546c9405d4f",
            "6f03ba5cd63e4d6e8cca14942b106113",
            "bca4ff9016ee401fa256ab9416dd3746",
            "eec4aa83fdf14393a1feb96e4a5c9e5b",
            "efa26c530e7f458caf9ecc4110b2a407",
            "96c9cdd9898e4247bb82cffe992538b0",
            "41ccd632ad964f388153c13248dae50c",
            "86108dd3fe9547f48106a8a0a0a3b112",
            "f98ce47ab818405da9fe752d2f2713e4",
            "c22e9ae640a7427788b2f6d579d03236",
            "ef37ea1133bc413d9d13d3ddfe8464c2",
            "e8d2a8d62dc7487b930a9851f678d67a",
            "9cbb20bed69147459f65c83420fc18e7",
            "95b70cde44f54ecea45f66b39f93faeb",
            "72a29b7f492d4c9d99e009d5e80ec551",
            "35adc284bdcd4adab6381f5d72845823"
          ]
        },
        "id": "0avWO60GqxI3",
        "outputId": "4f33824b-617f-49ca-8389-36ac5bcf51f6"
      },
      "outputs": [
        {
          "output_type": "stream",
          "name": "stdout",
          "text": [
            "Using device: cuda\n"
          ]
        },
        {
          "output_type": "display_data",
          "data": {
            "text/plain": [
              "Downloading data:   0%|          | 0.00/3.30M [00:00<?, ?B/s]"
            ],
            "application/vnd.jupyter.widget-view+json": {
              "version_major": 2,
              "version_minor": 0,
              "model_id": "0bc95d4ace4a492ca02ca5712727d2c3"
            }
          },
          "metadata": {}
        },
        {
          "output_type": "display_data",
          "data": {
            "text/plain": [
              "Generating train split:   0%|          | 0/32332 [00:00<?, ? examples/s]"
            ],
            "application/vnd.jupyter.widget-view+json": {
              "version_major": 2,
              "version_minor": 0,
              "model_id": "96c9cdd9898e4247bb82cffe992538b0"
            }
          },
          "metadata": {}
        },
        {
          "output_type": "stream",
          "name": "stdout",
          "text": [
            "Max length of source sentence: 309\n",
            "Max length of target sentence: 274\n"
          ]
        },
        {
          "output_type": "stream",
          "name": "stderr",
          "text": [
            "Processing Epoch 00: 100%|██████████| 1940/1940 [19:31<00:00,  1.66it/s, loss=5.628]\n"
          ]
        },
        {
          "output_type": "stream",
          "name": "stdout",
          "text": [
            "--------------------------------------------------------------------------------\n",
            "    SOURCE: 'WELL, HAVE YOU HAD A GOOD TIME?' she asked, coming out to meet him with a meek and repentant look on her face.\n",
            "    TARGET: — Be’, c’è stata allegria? — chiese lei, uscendogli incontro con un’espressione colpevole e mansueta nel viso.\n",
            " PREDICTED: — E che , che è detto , che , e la sua moglie , e la sua moglie , e la sua sua sua sua sua sua sua sua sua sua sua sua sua sua sua sua sua sua sua sua sua sua sua sua sua sua sua sua sua sua sua sua sua sua sua sua .\n",
            "--------------------------------------------------------------------------------\n",
            "    SOURCE: \"She will want to warm herself: what will she do for a fire?\"\n",
            "    TARGET: — Avrà freddo; come farà a scaldarsi?\n",
            " PREDICTED: — È un ' altro ? — disse , che è un ' altro ?\n",
            "--------------------------------------------------------------------------------\n"
          ]
        },
        {
          "output_type": "stream",
          "name": "stderr",
          "text": [
            "/usr/local/lib/python3.10/dist-packages/torchmetrics/utilities/prints.py:62: FutureWarning: Importing `CharErrorRate` from `torchmetrics` was deprecated and will be removed in 2.0. Import `CharErrorRate` from `torchmetrics.text` instead.\n",
            "  _future_warning(\n",
            "/usr/local/lib/python3.10/dist-packages/torchmetrics/utilities/prints.py:62: FutureWarning: Importing `WordErrorRate` from `torchmetrics` was deprecated and will be removed in 2.0. Import `WordErrorRate` from `torchmetrics.text` instead.\n",
            "  _future_warning(\n",
            "/usr/local/lib/python3.10/dist-packages/torchmetrics/utilities/prints.py:62: FutureWarning: Importing `BLEUScore` from `torchmetrics` was deprecated and will be removed in 2.0. Import `BLEUScore` from `torchmetrics.text` instead.\n",
            "  _future_warning(\n",
            "Processing Epoch 01: 100%|██████████| 1940/1940 [19:30<00:00,  1.66it/s, loss=5.583]\n"
          ]
        },
        {
          "output_type": "stream",
          "name": "stdout",
          "text": [
            "--------------------------------------------------------------------------------\n",
            "    SOURCE: And that was what he did not desire.\n",
            "    TARGET: E questo non voleva.\n",
            " PREDICTED: E che non era stato mai , non poteva dire .\n",
            "--------------------------------------------------------------------------------\n",
            "    SOURCE: \"It is a large sum--don't you think there is a mistake?\"\n",
            "    TARGET: — È una somma tanto forte! Non credete che vi sia errore?\n",
            " PREDICTED: — Non è un ' altra , — non avete detto che non avete detto ?\n",
            "--------------------------------------------------------------------------------\n"
          ]
        },
        {
          "output_type": "stream",
          "name": "stderr",
          "text": [
            "Processing Epoch 02: 100%|██████████| 1940/1940 [19:29<00:00,  1.66it/s, loss=4.999]\n"
          ]
        },
        {
          "output_type": "stream",
          "name": "stdout",
          "text": [
            "--------------------------------------------------------------------------------\n",
            "    SOURCE: The French way, of parents deciding a daughter's fate, was not accepted, and was even condemned.\n",
            "    TARGET: L’uso francese — ai genitori la decisione della sorte dei figli — non era accolto, era criticato.\n",
            " PREDICTED: La donna , la donna , la donna , non era più di , e non si era più più .\n",
            "--------------------------------------------------------------------------------\n",
            "    SOURCE: I'm going to get out, and have a drink.\"\n",
            "    TARGET: Adesso vado fuori a bere qualcosa.\n",
            " PREDICTED: Io sono contenta , e noi sono un po ’ di .\n",
            "--------------------------------------------------------------------------------\n"
          ]
        },
        {
          "output_type": "stream",
          "name": "stderr",
          "text": [
            "Processing Epoch 03: 100%|██████████| 1940/1940 [19:29<00:00,  1.66it/s, loss=5.219]\n"
          ]
        },
        {
          "output_type": "stream",
          "name": "stdout",
          "text": [
            "--------------------------------------------------------------------------------\n",
            "    SOURCE: Laska became more and more intent on her pursuit, the nearer she got to the hummocks.\n",
            "    TARGET: Nella ricerca, Laska, quanto più si avvicinava alle note montagnole, tanto più diventava seria.\n",
            " PREDICTED: Levin si era più più più , e la sua vita si fermò per la sua .\n",
            "--------------------------------------------------------------------------------\n",
            "    SOURCE: \"This is hypochondria, Jane.\n",
            "    TARGET: — Questo è frutto dell'ipocondria, Jane.\n",
            " PREDICTED: — È vero , Jane , Jane .\n",
            "--------------------------------------------------------------------------------\n"
          ]
        },
        {
          "output_type": "stream",
          "name": "stderr",
          "text": [
            "Processing Epoch 04: 100%|██████████| 1940/1940 [19:30<00:00,  1.66it/s, loss=4.557]\n"
          ]
        },
        {
          "output_type": "stream",
          "name": "stdout",
          "text": [
            "--------------------------------------------------------------------------------\n",
            "    SOURCE: Suddenly his face beamed – he had understood.\n",
            "    TARGET: A un tratto egli s’illuminò tutto: aveva capito.\n",
            " PREDICTED: Il viso di un tratto , egli aveva capito .\n",
            "--------------------------------------------------------------------------------\n",
            "    SOURCE: Mr. Mason, he found, had a son and daughter; and he learned from him that he could and would give the latter a fortune of thirty thousand pounds: that sufficed.\n",
            "    TARGET: Il suo vecchio amico aveva un figlio e una figlia, alla quale dava in dote trentamila sterline, e ciò gli bastava.\n",
            " PREDICTED: Il signor Mason , era un figlio e aveva detto che aveva fatto un figlio per lui , e che doveva essere stato da lui .\n",
            "--------------------------------------------------------------------------------\n"
          ]
        },
        {
          "output_type": "stream",
          "name": "stderr",
          "text": [
            "Processing Epoch 05: 100%|██████████| 1940/1940 [19:30<00:00,  1.66it/s, loss=4.495]\n"
          ]
        },
        {
          "output_type": "stream",
          "name": "stdout",
          "text": [
            "--------------------------------------------------------------------------------\n",
            "    SOURCE: Steps came running along the outer passage; the key turned, Bessie and Abbot entered.\n",
            "    TARGET: Sentii un rumore di passi, la chiave girò nella toppa; Bessie e la signorina Abbot entrarono.\n",
            " PREDICTED: Dopo aver dormito la porta , la chiave bianca , la signorina Ingram , e Bessie entrò .\n",
            "--------------------------------------------------------------------------------\n",
            "    SOURCE: With him Karenin entered into conversation.\n",
            "    TARGET: Aleksej Aleksandrovic si mise a discorrere con lui.\n",
            " PREDICTED: Con Vronskij entrò in conversazione .\n",
            "--------------------------------------------------------------------------------\n"
          ]
        },
        {
          "output_type": "stream",
          "name": "stderr",
          "text": [
            "Processing Epoch 06: 100%|██████████| 1940/1940 [19:30<00:00,  1.66it/s, loss=4.313]\n"
          ]
        },
        {
          "output_type": "stream",
          "name": "stdout",
          "text": [
            "--------------------------------------------------------------------------------\n",
            "    SOURCE: But he did not come out to meet her when she arrived.\n",
            "    TARGET: Ma quando giunse, egli non le andò incontro.\n",
            " PREDICTED: Ma non si aspettava da lei quando ella entrò in camera .\n",
            "--------------------------------------------------------------------------------\n",
            "    SOURCE: \"Good-sized trout, that,\" said George, turning round to him.\n",
            "    TARGET: — Una bellissima trota, questa — disse Giorgio, volgendogli la parola.\n",
            " PREDICTED: — Buon giorno , — disse Giorgio , indicando Giorgio , volgendosi a lui .\n",
            "--------------------------------------------------------------------------------\n"
          ]
        },
        {
          "output_type": "stream",
          "name": "stderr",
          "text": [
            "Processing Epoch 07: 100%|██████████| 1940/1940 [19:32<00:00,  1.66it/s, loss=4.127]\n"
          ]
        },
        {
          "output_type": "stream",
          "name": "stdout",
          "text": [
            "--------------------------------------------------------------------------------\n",
            "    SOURCE: 'Yes. I wished... I must have... I must have a talk with you,' said Oblonsky, surprised at his own unaccustomed timidity.\n",
            "    TARGET: — Sì, volevo... ho bisogno... già, ho bisogno di parlarti — disse Stepan Arkad’ic, sentendo con sorpresa un’insolita timidezza.\n",
            " PREDICTED: — Sì , volevo ... io devo parlare ... bisogna parlare con te — disse Levin , guardandolo con evidente . — Ma , come se ne ho parlato .\n",
            "--------------------------------------------------------------------------------\n",
            "    SOURCE: I proved it to you in such terms as, I should have thought, would have prevented your ever again alluding to the plan. That you have done so, I regret--for your sake.\"\n",
            "    TARGET: E ve ne ho parlato in modo che mi fa pena di sentirvi insistere.\n",
            " PREDICTED: \" Non ho avuto una tale ragione , che avrei potuto essere stato di non aver avuto il vostro spirito , perché non ho mai avuto la forza di far fuoco , perché io ho fatto bene .\n",
            "--------------------------------------------------------------------------------\n"
          ]
        },
        {
          "output_type": "stream",
          "name": "stderr",
          "text": [
            "Processing Epoch 08: 100%|██████████| 1940/1940 [19:31<00:00,  1.66it/s, loss=3.853]\n"
          ]
        },
        {
          "output_type": "stream",
          "name": "stdout",
          "text": [
            "--------------------------------------------------------------------------------\n",
            "    SOURCE: There I can perhaps be of use to him and you.\n",
            "    TARGET: Là forse io posso essere utile a te e a lui.\n",
            " PREDICTED: Vi posso forse fare un po ’ di fare e voi .\n",
            "--------------------------------------------------------------------------------\n",
            "    SOURCE: On his return home he carefully looked at the coat-stand, and noticing that no military coat hung there he went to his study as usual; contrary to his habit, however, he did not go to bed but walked up and down the room till three in the morning.\n",
            "    TARGET: Tornato a casa, esaminò attentamente l’attaccapanni, e, notato che il cappotto militare non c’era più, passò, secondo il solito, in camera sua. Ma, contrariamente al solito, non si mise a letto, passeggiò avanti e indietro per lo studio fino alle tre di notte.\n",
            " PREDICTED: Nel tornare a casa , guardò con lo sguardo sulla giacca , e , avendo visto che non si avvicinava , si diresse verso il soprabito , come al solito , non andò guari che , non si , ma fino a tre giorni dopo la mattina , non andò a letto .\n",
            "--------------------------------------------------------------------------------\n"
          ]
        },
        {
          "output_type": "stream",
          "name": "stderr",
          "text": [
            "Processing Epoch 09: 100%|██████████| 1940/1940 [19:31<00:00,  1.66it/s, loss=3.311]\n"
          ]
        },
        {
          "output_type": "stream",
          "name": "stdout",
          "text": [
            "--------------------------------------------------------------------------------\n",
            "    SOURCE: What a golden desert this spreading moor!\n",
            "    TARGET: Che bella e calma giornata! Le paludi si stendevano dinanzi a me come un deserto d'oro.\n",
            " PREDICTED: Che oro in quel costume d ' oro !\n",
            "--------------------------------------------------------------------------------\n",
            "    SOURCE: 'How often must I tell you to let me know at once when anyone is here?'\n",
            "    TARGET: — Ma quante volte ti ho detto di annunziare subito!\n",
            " PREDICTED: — Come mai mi ricordo di dirmi , quando nessuno è qui ?\n",
            "--------------------------------------------------------------------------------\n"
          ]
        },
        {
          "output_type": "stream",
          "name": "stderr",
          "text": [
            "Processing Epoch 10:   6%|▌         | 111/1940 [01:07<18:14,  1.67it/s, loss=3.461]"
          ]
        }
      ],
      "source": [
        "from config import get_config\n",
        "cfg = get_config()\n",
        "cfg[\"batch_size\"] = 15\n",
        "cfg[\"preload\"] = None\n",
        "cfg[\"num_epochs\"] = 30\n",
        "\n",
        "from train import train_model\n",
        "\n",
        "train_model(cfg)"
      ]
    },
    {
      "cell_type": "code",
      "source": [],
      "metadata": {
        "id": "bf7Ty7morWBs"
      },
      "execution_count": null,
      "outputs": []
    }
  ]
}